{
 "cells": [
  {
   "cell_type": "markdown",
   "metadata": {},
   "source": [
    "## importing neccasry library "
   ]
  },
  {
   "cell_type": "code",
   "execution_count": 67,
   "metadata": {},
   "outputs": [],
   "source": [
    "# importing neccary  libary\n",
    "from nsepy import get_history\n",
    "import numpy as np\n",
    "import pandas as pd \n",
    "from datetime import date \n",
    "import matplotlib.pyplot as plt \n",
    "%matplotlib inline \n",
    "from statsmodels.tsa.stattools import OLS \n",
    "from statsmodels.tsa.stattools import adfuller\n",
    "import seaborn as sns"
   ]
  },
  {
   "cell_type": "markdown",
   "metadata": {},
   "source": [
    "##  craeting sector list with thier respective sectors stocks selection of stocks was made based on volume "
   ]
  },
  {
   "cell_type": "code",
   "execution_count": 9,
   "metadata": {},
   "outputs": [],
   "source": [
    "# craeter sector wise variables with stocks list in it \n",
    "banking = ['ALBK','ANDHRABANK','AXISBANK','BANKBARODA','BANKINDIA','CANBK','FEDERALBNK','HDFC','ICICIBANK','IDBI','INDIANB','KOTAKBANK','ORIENTBANK','PNB','SBIN','SYNDIBANK','UNIONBANK']\n",
    "it = ['INFY',\"TCS\",\"WIPRO\",\"HCLTECH\",\"TECHM\",\"HEXAWARE\"]\n",
    "cement = [\"INDIACEM\",\"ULTRACEMCO\",\"AMBUJACEM\",\"ACC\",\"CENTURYTEX\"]\n",
    "petroleum = [\"RIIL\",\"ONGC\",\"GAIL\",\"IOC\",\"BPCL\",\"HINDPETRO\",\"PETRONET\"]\n",
    "auto = [\"ESCORTS\",\"M&M\",\"TATAMOTORS\",\"ASHOKLEY\",\"BAJAJ-AUTO\",\"HEROMOTOCO\",\"TVSMOTOR\"]\n",
    "health = [\"AUROPHARMA\",\"SUNPHARMA\",\"WOCKPHARMA\",\"CADILAHC\",\"PEL\",\"BIOCON\",\"LUPIN\",\"GLENMARK\",\"CIPLA\"]\n",
    "finance = [\"RELCAPITAL\",\"DHFL\",\"IBULHSGFIN\",\"MANAPPURAM\",\"L&TFH\",\"IFCI\",\"RECLTD\",\"PFC\",\"HDFC\"]"
   ]
  },
  {
   "cell_type": "code",
   "execution_count": 10,
   "metadata": {},
   "outputs": [],
   "source": [
    "all_sectors_stocks = [banking,it,cement,petroleum,auto,health,finance]# storing all sectors in one list "
   ]
  },
  {
   "cell_type": "markdown",
   "metadata": {},
   "source": [
    "## craeting a user defined function wich calauclates rollign adf ,rolling beta,and  mean of that rolling adf "
   ]
  },
  {
   "cell_type": "code",
   "execution_count": 11,
   "metadata": {},
   "outputs": [],
   "source": [
    "def rolling_adf(x_name,y_name,start_date,end_date):# craeting a function wich calculates rollign adf \n",
    "    rolling_beta = []\n",
    "    adf_values = []\n",
    "    x = get_history(x_name,start = start_date,end=end_date)['Close']\n",
    "    y = get_history(y_name,start = start_date,end=end_date)['Close']\n",
    "    day_count = 0\n",
    "    iteration_count = -1\n",
    "    for i in x:                     #x is just birng used as a range\n",
    "        day_count = day_count + 1    # day count turn to one in the first iteration and so on \n",
    "        if day_count >= 60:\n",
    "            iteration_count = iteration_count + 1 #iteration starts adding up once day count turn 60 \n",
    "            model = OLS(y[iteration_count:day_count].values,x[iteration_count:day_count].values).fit()\n",
    "            spread = y[iteration_count:day_count] - (x[iteration_count:day_count] * model.params[0])\n",
    "            adf = adfuller(spread)[0]\n",
    "            rolling_beta.append(model.params[0])\n",
    "            adf_values.append(adf)\n",
    "    rolling_adf_mean = np.mean(adf_values)\n",
    "    rolling_values = [adf_values,rolling_beta,rolling_adf_mean]\n",
    "    return rolling_values"
   ]
  },
  {
   "cell_type": "markdown",
   "metadata": {},
   "source": [
    "## banking sector test for year 2015"
   ]
  },
  {
   "cell_type": "code",
   "execution_count": 12,
   "metadata": {},
   "outputs": [],
   "source": [
    "start_date = date(2015,6,1)\n",
    "end_date = date(2015,12,30)"
   ]
  },
  {
   "cell_type": "code",
   "execution_count": 13,
   "metadata": {},
   "outputs": [],
   "source": [
    "banking_pairs= [(x,y) for x in banking for y in banking if x!=y] #craeting combination of stocks so the are iterable \n",
    "banking_dict = {}\n",
    "for x,y in banking_pairs: #running the function on all bankin pairs we craeted and storing thier values in the dict \n",
    "    banking_dict[str(x) + str(y)] = rolling_adf(x,y,start_date,end_date)"
   ]
  },
  {
   "cell_type": "code",
   "execution_count": 14,
   "metadata": {},
   "outputs": [],
   "source": [
    "#fetching pairs banking dict wich have rolling adf mean below -2.5\n",
    "banking_tradable_pairs = []\n",
    "banking_tradable_stocks = []\n",
    "for x,y in banking_pairs:\n",
    "    mean = banking_dict[str(x) + str(y)][2]\n",
    "    if mean <= -2.5:                        \n",
    "        banking_tradable_pairs.append((x,y))\n",
    "        banking_tradable_stocks.append(x)\n",
    "        banking_tradable_stocks.append(y)\n",
    "banking_tradable_pairs = set(tuple(sorted(p)) for p in banking_tradable_pairs)# removing the duplicates"
   ]
  },
  {
   "cell_type": "code",
   "execution_count": 15,
   "metadata": {
    "scrolled": true
   },
   "outputs": [
    {
     "name": "stdout",
     "output_type": "stream",
     "text": [
      "{'AXISBANK', 'SBIN', 'INDIANB', 'FEDERALBNK', 'BANKBARODA', 'BANKINDIA', 'ICICIBANK', 'HDFC', 'ANDHRABANK', 'UNIONBANK', 'ALBK'}\n",
      "{('AXISBANK', 'FEDERALBNK'), ('FEDERALBNK', 'ICICIBANK'), ('ICICIBANK', 'INDIANB'), ('AXISBANK', 'INDIANB'), ('AXISBANK', 'BANKINDIA'), ('HDFC', 'ICICIBANK'), ('ALBK', 'SBIN'), ('ANDHRABANK', 'SBIN'), ('ANDHRABANK', 'INDIANB'), ('BANKBARODA', 'FEDERALBNK'), ('FEDERALBNK', 'UNIONBANK')}\n"
     ]
    }
   ],
   "source": [
    "print(set(banking_tradable_stocks))# i need this so i could copy this to my blue shift algo \n",
    "print(banking_tradable_pairs)"
   ]
  },
  {
   "cell_type": "code",
   "execution_count": 227,
   "metadata": {},
   "outputs": [],
   "source": [
    "def dataframe(sector_dict,dict_pairs):\n",
    "    rolling_adf_pvalue_mean = []\n",
    "    rolling_beta_value = []\n",
    "    x_stocks = []\n",
    "    y_stocks = []\n",
    "    for x,y in dict_pairs:\n",
    "        adf_mean = sector_dict[str(x) + str(y)][2]\n",
    "        rolling_beta_mean = np.mean(sector_dict[str(x) + str(y)][1])\n",
    "        rolling_adf_pvalue_mean.append(adf_mean)\n",
    "        x_stocks.append(x)\n",
    "        y_stocks.append(y)\n",
    "        rolling_beta_value.append(rolling_beta_mean)\n",
    "    \n",
    "    df = pd.DataFrame({\"x_stock\":x_stocks,\"y_stock\":y_stocks,\n",
    "                                 \"rolling_adf_mean\":rolling_adf_pvalue_mean,\n",
    "                                 \"rolling_beta_mean\":rolling_beta_value})\n",
    "    return df\n"
   ]
  },
  {
   "cell_type": "code",
   "execution_count": 228,
   "metadata": {},
   "outputs": [
    {
     "data": {
      "text/html": [
       "<div>\n",
       "<style scoped>\n",
       "    .dataframe tbody tr th:only-of-type {\n",
       "        vertical-align: middle;\n",
       "    }\n",
       "\n",
       "    .dataframe tbody tr th {\n",
       "        vertical-align: top;\n",
       "    }\n",
       "\n",
       "    .dataframe thead th {\n",
       "        text-align: right;\n",
       "    }\n",
       "</style>\n",
       "<table border=\"1\" class=\"dataframe\">\n",
       "  <thead>\n",
       "    <tr style=\"text-align: right;\">\n",
       "      <th></th>\n",
       "      <th>x_stock</th>\n",
       "      <th>y_stock</th>\n",
       "      <th>rolling_adf_mean</th>\n",
       "      <th>rolling_beta_mean</th>\n",
       "    </tr>\n",
       "  </thead>\n",
       "  <tbody>\n",
       "    <tr>\n",
       "      <th>0</th>\n",
       "      <td>AXISBANK</td>\n",
       "      <td>FEDERALBNK</td>\n",
       "      <td>-2.682124</td>\n",
       "      <td>0.132610</td>\n",
       "    </tr>\n",
       "    <tr>\n",
       "      <th>1</th>\n",
       "      <td>FEDERALBNK</td>\n",
       "      <td>ICICIBANK</td>\n",
       "      <td>-2.261078</td>\n",
       "      <td>4.089730</td>\n",
       "    </tr>\n",
       "    <tr>\n",
       "      <th>2</th>\n",
       "      <td>ICICIBANK</td>\n",
       "      <td>INDIANB</td>\n",
       "      <td>-2.649305</td>\n",
       "      <td>0.475056</td>\n",
       "    </tr>\n",
       "    <tr>\n",
       "      <th>3</th>\n",
       "      <td>AXISBANK</td>\n",
       "      <td>INDIANB</td>\n",
       "      <td>-2.550179</td>\n",
       "      <td>0.261110</td>\n",
       "    </tr>\n",
       "    <tr>\n",
       "      <th>4</th>\n",
       "      <td>AXISBANK</td>\n",
       "      <td>BANKINDIA</td>\n",
       "      <td>-2.497130</td>\n",
       "      <td>0.286539</td>\n",
       "    </tr>\n",
       "    <tr>\n",
       "      <th>5</th>\n",
       "      <td>HDFC</td>\n",
       "      <td>ICICIBANK</td>\n",
       "      <td>-2.597397</td>\n",
       "      <td>0.228822</td>\n",
       "    </tr>\n",
       "    <tr>\n",
       "      <th>6</th>\n",
       "      <td>ALBK</td>\n",
       "      <td>SBIN</td>\n",
       "      <td>-2.520664</td>\n",
       "      <td>3.067610</td>\n",
       "    </tr>\n",
       "    <tr>\n",
       "      <th>7</th>\n",
       "      <td>ANDHRABANK</td>\n",
       "      <td>SBIN</td>\n",
       "      <td>-2.694244</td>\n",
       "      <td>3.660726</td>\n",
       "    </tr>\n",
       "    <tr>\n",
       "      <th>8</th>\n",
       "      <td>ANDHRABANK</td>\n",
       "      <td>INDIANB</td>\n",
       "      <td>-2.735978</td>\n",
       "      <td>1.971406</td>\n",
       "    </tr>\n",
       "    <tr>\n",
       "      <th>9</th>\n",
       "      <td>BANKBARODA</td>\n",
       "      <td>FEDERALBNK</td>\n",
       "      <td>-2.635142</td>\n",
       "      <td>0.391012</td>\n",
       "    </tr>\n",
       "    <tr>\n",
       "      <th>10</th>\n",
       "      <td>FEDERALBNK</td>\n",
       "      <td>UNIONBANK</td>\n",
       "      <td>-2.768960</td>\n",
       "      <td>2.500793</td>\n",
       "    </tr>\n",
       "  </tbody>\n",
       "</table>\n",
       "</div>"
      ],
      "text/plain": [
       "       x_stock     y_stock  rolling_adf_mean  rolling_beta_mean\n",
       "0     AXISBANK  FEDERALBNK         -2.682124           0.132610\n",
       "1   FEDERALBNK   ICICIBANK         -2.261078           4.089730\n",
       "2    ICICIBANK     INDIANB         -2.649305           0.475056\n",
       "3     AXISBANK     INDIANB         -2.550179           0.261110\n",
       "4     AXISBANK   BANKINDIA         -2.497130           0.286539\n",
       "5         HDFC   ICICIBANK         -2.597397           0.228822\n",
       "6         ALBK        SBIN         -2.520664           3.067610\n",
       "7   ANDHRABANK        SBIN         -2.694244           3.660726\n",
       "8   ANDHRABANK     INDIANB         -2.735978           1.971406\n",
       "9   BANKBARODA  FEDERALBNK         -2.635142           0.391012\n",
       "10  FEDERALBNK   UNIONBANK         -2.768960           2.500793"
      ]
     },
     "execution_count": 228,
     "metadata": {},
     "output_type": "execute_result"
    }
   ],
   "source": [
    "dataframe(banking_dict,banking_tradable_pairs)"
   ]
  },
  {
   "cell_type": "markdown",
   "metadata": {},
   "source": [
    "## it sector test 2015 "
   ]
  },
  {
   "cell_type": "code",
   "execution_count": 17,
   "metadata": {},
   "outputs": [],
   "source": [
    "start_date = date(2015,6,1)\n",
    "end_date = date(2015,12,30)"
   ]
  },
  {
   "cell_type": "code",
   "execution_count": 18,
   "metadata": {},
   "outputs": [],
   "source": [
    "it_pairs= [(x,y) for x in it for y in it if x!=y] #craeting combination of stocks so the are iterable \n",
    "it_dict = {}"
   ]
  },
  {
   "cell_type": "code",
   "execution_count": 19,
   "metadata": {},
   "outputs": [],
   "source": [
    "for x,y in it_pairs:\n",
    "    it_dict[str(x) + str(y)] = rolling_adf(x,y,start_date,end_date)"
   ]
  },
  {
   "cell_type": "code",
   "execution_count": 20,
   "metadata": {},
   "outputs": [],
   "source": [
    "it_tradable_pairs = []\n",
    "it_tradable_stocks = []\n",
    "for x,y in it_pairs:\n",
    "    mean = it_dict[str(x) + str(y)][2]\n",
    "    if mean <= -2.5:\n",
    "        it_tradable_pairs.append((x,y))\n",
    "        it_tradable_stocks.append(x)\n",
    "        it_tradable_stocks.append(y)\n",
    "it_tradable_pairs = set(tuple(sorted(p)) for p in it_tradable_pairs)"
   ]
  },
  {
   "cell_type": "code",
   "execution_count": 21,
   "metadata": {},
   "outputs": [
    {
     "name": "stdout",
     "output_type": "stream",
     "text": [
      "{'HCLTECH', 'INFY', 'WIPRO', 'TECHM'}\n",
      "{('INFY', 'TECHM'), ('HCLTECH', 'WIPRO'), ('INFY', 'WIPRO'), ('TECHM', 'WIPRO')}\n"
     ]
    }
   ],
   "source": [
    "print(set(it_tradable_stocks))\n",
    "print(it_tradable_pairs)"
   ]
  },
  {
   "cell_type": "code",
   "execution_count": 226,
   "metadata": {},
   "outputs": [
    {
     "data": {
      "text/html": [
       "<div>\n",
       "<style scoped>\n",
       "    .dataframe tbody tr th:only-of-type {\n",
       "        vertical-align: middle;\n",
       "    }\n",
       "\n",
       "    .dataframe tbody tr th {\n",
       "        vertical-align: top;\n",
       "    }\n",
       "\n",
       "    .dataframe thead th {\n",
       "        text-align: right;\n",
       "    }\n",
       "</style>\n",
       "<table border=\"1\" class=\"dataframe\">\n",
       "  <thead>\n",
       "    <tr style=\"text-align: right;\">\n",
       "      <th></th>\n",
       "      <th>x_stock</th>\n",
       "      <th>y_stock</th>\n",
       "      <th>rolling_adf_mean</th>\n",
       "      <th>rolling_beta_mean</th>\n",
       "    </tr>\n",
       "  </thead>\n",
       "  <tbody>\n",
       "    <tr>\n",
       "      <th>0</th>\n",
       "      <td>INFY</td>\n",
       "      <td>TECHM</td>\n",
       "      <td>-3.181709</td>\n",
       "      <td>0.483666</td>\n",
       "    </tr>\n",
       "    <tr>\n",
       "      <th>1</th>\n",
       "      <td>HCLTECH</td>\n",
       "      <td>WIPRO</td>\n",
       "      <td>-2.561448</td>\n",
       "      <td>0.623974</td>\n",
       "    </tr>\n",
       "    <tr>\n",
       "      <th>2</th>\n",
       "      <td>INFY</td>\n",
       "      <td>WIPRO</td>\n",
       "      <td>-2.531546</td>\n",
       "      <td>0.514278</td>\n",
       "    </tr>\n",
       "    <tr>\n",
       "      <th>3</th>\n",
       "      <td>TECHM</td>\n",
       "      <td>WIPRO</td>\n",
       "      <td>-4.364694</td>\n",
       "      <td>1.063505</td>\n",
       "    </tr>\n",
       "  </tbody>\n",
       "</table>\n",
       "</div>"
      ],
      "text/plain": [
       "   x_stock y_stock  rolling_adf_mean  rolling_beta_mean\n",
       "0     INFY   TECHM         -3.181709           0.483666\n",
       "1  HCLTECH   WIPRO         -2.561448           0.623974\n",
       "2     INFY   WIPRO         -2.531546           0.514278\n",
       "3    TECHM   WIPRO         -4.364694           1.063505"
      ]
     },
     "execution_count": 226,
     "metadata": {},
     "output_type": "execute_result"
    }
   ],
   "source": [
    "dataframe(it_dict,it_tradable_pairs)"
   ]
  },
  {
   "cell_type": "markdown",
   "metadata": {},
   "source": [
    "## cement sector test 2015"
   ]
  },
  {
   "cell_type": "code",
   "execution_count": 22,
   "metadata": {},
   "outputs": [],
   "source": [
    "start_date = date(2015,6,1)\n",
    "end_date = date(2015,12,30)"
   ]
  },
  {
   "cell_type": "code",
   "execution_count": 23,
   "metadata": {},
   "outputs": [],
   "source": [
    "cement_pairs= [(x,y) for x in cement for y in cement if x!=y] #craeting combination of stocks so the are iterable \n",
    "cement_dict = {}"
   ]
  },
  {
   "cell_type": "code",
   "execution_count": 24,
   "metadata": {},
   "outputs": [],
   "source": [
    "for x,y in cement_pairs:\n",
    "    cement_dict[str(x) + str(y)] = rolling_adf(x,y,start_date,end_date)"
   ]
  },
  {
   "cell_type": "code",
   "execution_count": 25,
   "metadata": {},
   "outputs": [],
   "source": [
    "cement_tradable_pairs = []\n",
    "cement_tradable_stocks = []\n",
    "for x,y in cement_pairs:\n",
    "    mean = cement_dict[str(x) + str(y)][2]\n",
    "    if mean <= -2.5:\n",
    "        cement_tradable_pairs.append((x,y))\n",
    "        cement_tradable_stocks.append(x)\n",
    "        cement_tradable_stocks.append(y)\n",
    "cement_tradable_pairs = set(tuple(sorted(p)) for p in cement_tradable_pairs)"
   ]
  },
  {
   "cell_type": "code",
   "execution_count": 26,
   "metadata": {},
   "outputs": [
    {
     "name": "stdout",
     "output_type": "stream",
     "text": [
      "set()\n",
      "set()\n"
     ]
    }
   ],
   "source": [
    "print(set(cement_tradable_stocks))\n",
    "print(cement_tradable_pairs)"
   ]
  },
  {
   "cell_type": "code",
   "execution_count": 219,
   "metadata": {},
   "outputs": [
    {
     "data": {
      "text/html": [
       "<div>\n",
       "<style scoped>\n",
       "    .dataframe tbody tr th:only-of-type {\n",
       "        vertical-align: middle;\n",
       "    }\n",
       "\n",
       "    .dataframe tbody tr th {\n",
       "        vertical-align: top;\n",
       "    }\n",
       "\n",
       "    .dataframe thead th {\n",
       "        text-align: right;\n",
       "    }\n",
       "</style>\n",
       "<table border=\"1\" class=\"dataframe\">\n",
       "  <thead>\n",
       "    <tr style=\"text-align: right;\">\n",
       "      <th></th>\n",
       "      <th>x_stock</th>\n",
       "      <th>y_stock</th>\n",
       "      <th>rolling_adf_mean</th>\n",
       "      <th>rolling_beta_mean</th>\n",
       "    </tr>\n",
       "  </thead>\n",
       "  <tbody>\n",
       "  </tbody>\n",
       "</table>\n",
       "</div>"
      ],
      "text/plain": [
       "Empty DataFrame\n",
       "Columns: [x_stock, y_stock, rolling_adf_mean, rolling_beta_mean]\n",
       "Index: []"
      ]
     },
     "execution_count": 219,
     "metadata": {},
     "output_type": "execute_result"
    }
   ],
   "source": [
    "dataframe(cement_dict,cement_tradable_pairs)"
   ]
  },
  {
   "cell_type": "markdown",
   "metadata": {},
   "source": [
    "##  petroleum sector test 2015"
   ]
  },
  {
   "cell_type": "code",
   "execution_count": 27,
   "metadata": {},
   "outputs": [],
   "source": [
    "start_date = date(2015,6,1)\n",
    "end_date = date(2015,12,30)"
   ]
  },
  {
   "cell_type": "code",
   "execution_count": 28,
   "metadata": {},
   "outputs": [],
   "source": [
    "petroleum_pairs= [(x,y) for x in petroleum for y in petroleum if x!=y] #craeting combination of stocks so the are iterable \n",
    "petroleum_dict = {}"
   ]
  },
  {
   "cell_type": "code",
   "execution_count": 29,
   "metadata": {},
   "outputs": [],
   "source": [
    "for x,y in petroleum_pairs:\n",
    "    petroleum_dict[str(x) + str(y)] = rolling_adf(x,y,start_date,end_date)"
   ]
  },
  {
   "cell_type": "code",
   "execution_count": 30,
   "metadata": {},
   "outputs": [],
   "source": [
    "petroleum_tradable_pairs = []\n",
    "petroleum_tradable_stocks = []\n",
    "for x,y in petroleum_pairs:\n",
    "    mean = petroleum_dict[str(x) + str(y)][2]\n",
    "    if mean <= -2.5:\n",
    "        petroleum_tradable_pairs.append((x,y))\n",
    "        petroleum_tradable_stocks.append(x)\n",
    "        petroleum_tradable_stocks.append(y)\n",
    "petroleum_tradable_pairs = set(tuple(sorted(p)) for p in petroleum_tradable_pairs)"
   ]
  },
  {
   "cell_type": "code",
   "execution_count": 31,
   "metadata": {},
   "outputs": [
    {
     "name": "stdout",
     "output_type": "stream",
     "text": [
      "{'RIIL', 'ONGC', 'GAIL'}\n",
      "{('GAIL', 'RIIL'), ('GAIL', 'ONGC')}\n"
     ]
    }
   ],
   "source": [
    "print(set(petroleum_tradable_stocks))\n",
    "print(petroleum_tradable_pairs)"
   ]
  },
  {
   "cell_type": "code",
   "execution_count": 221,
   "metadata": {},
   "outputs": [
    {
     "data": {
      "text/html": [
       "<div>\n",
       "<style scoped>\n",
       "    .dataframe tbody tr th:only-of-type {\n",
       "        vertical-align: middle;\n",
       "    }\n",
       "\n",
       "    .dataframe tbody tr th {\n",
       "        vertical-align: top;\n",
       "    }\n",
       "\n",
       "    .dataframe thead th {\n",
       "        text-align: right;\n",
       "    }\n",
       "</style>\n",
       "<table border=\"1\" class=\"dataframe\">\n",
       "  <thead>\n",
       "    <tr style=\"text-align: right;\">\n",
       "      <th></th>\n",
       "      <th>x_stock</th>\n",
       "      <th>y_stock</th>\n",
       "      <th>rolling_adf_mean</th>\n",
       "      <th>rolling_beta_mean</th>\n",
       "    </tr>\n",
       "  </thead>\n",
       "  <tbody>\n",
       "    <tr>\n",
       "      <th>0</th>\n",
       "      <td>GAIL</td>\n",
       "      <td>RIIL</td>\n",
       "      <td>-2.915664</td>\n",
       "      <td>1.066313</td>\n",
       "    </tr>\n",
       "    <tr>\n",
       "      <th>1</th>\n",
       "      <td>GAIL</td>\n",
       "      <td>ONGC</td>\n",
       "      <td>-2.896549</td>\n",
       "      <td>0.782810</td>\n",
       "    </tr>\n",
       "  </tbody>\n",
       "</table>\n",
       "</div>"
      ],
      "text/plain": [
       "  x_stock y_stock  rolling_adf_mean  rolling_beta_mean\n",
       "0    GAIL    RIIL         -2.915664           1.066313\n",
       "1    GAIL    ONGC         -2.896549           0.782810"
      ]
     },
     "execution_count": 221,
     "metadata": {},
     "output_type": "execute_result"
    }
   ],
   "source": [
    "dataframe(petroleum_dict,petroleum_tradable_pairs)"
   ]
  },
  {
   "cell_type": "markdown",
   "metadata": {},
   "source": [
    "## auto sector test 2015"
   ]
  },
  {
   "cell_type": "code",
   "execution_count": 32,
   "metadata": {},
   "outputs": [],
   "source": [
    "start_date = date(2015,6,1)\n",
    "end_date = date(2015,12,30)"
   ]
  },
  {
   "cell_type": "code",
   "execution_count": 33,
   "metadata": {},
   "outputs": [],
   "source": [
    "auto_pairs= [(x,y) for x in auto for y in auto if x!=y] #craeting combination of stocks so the are iterable \n",
    "auto_dict = {}"
   ]
  },
  {
   "cell_type": "code",
   "execution_count": 34,
   "metadata": {},
   "outputs": [],
   "source": [
    "for x,y in auto_pairs:\n",
    "    auto_dict[str(x) + str(y)] = rolling_adf(x,y,start_date,end_date)"
   ]
  },
  {
   "cell_type": "code",
   "execution_count": 35,
   "metadata": {},
   "outputs": [],
   "source": [
    "auto_tradable_pairs = []\n",
    "auto_tradable_stocks = []\n",
    "for x,y in auto_pairs:\n",
    "    mean = auto_dict[str(x) + str(y)][2]\n",
    "    if mean <= -2.5:\n",
    "        auto_tradable_pairs.append((x,y))\n",
    "        auto_tradable_stocks.append(x)\n",
    "        auto_tradable_stocks.append(y)\n",
    "auto_tradable_pairs = set(tuple(sorted(p)) for p in auto_tradable_pairs)"
   ]
  },
  {
   "cell_type": "code",
   "execution_count": 36,
   "metadata": {
    "scrolled": true
   },
   "outputs": [
    {
     "name": "stdout",
     "output_type": "stream",
     "text": [
      "{'HEROMOTOCO', 'ASHOKLEY', 'ESCORTS', 'BAJAJ-AUTO'}\n",
      "{('ASHOKLEY', 'ESCORTS'), ('BAJAJ-AUTO', 'HEROMOTOCO')}\n"
     ]
    }
   ],
   "source": [
    "print(set(auto_tradable_stocks))\n",
    "print(auto_tradable_pairs)"
   ]
  },
  {
   "cell_type": "code",
   "execution_count": 222,
   "metadata": {},
   "outputs": [
    {
     "data": {
      "text/html": [
       "<div>\n",
       "<style scoped>\n",
       "    .dataframe tbody tr th:only-of-type {\n",
       "        vertical-align: middle;\n",
       "    }\n",
       "\n",
       "    .dataframe tbody tr th {\n",
       "        vertical-align: top;\n",
       "    }\n",
       "\n",
       "    .dataframe thead th {\n",
       "        text-align: right;\n",
       "    }\n",
       "</style>\n",
       "<table border=\"1\" class=\"dataframe\">\n",
       "  <thead>\n",
       "    <tr style=\"text-align: right;\">\n",
       "      <th></th>\n",
       "      <th>x_stock</th>\n",
       "      <th>y_stock</th>\n",
       "      <th>rolling_adf_mean</th>\n",
       "      <th>rolling_beta_mean</th>\n",
       "    </tr>\n",
       "  </thead>\n",
       "  <tbody>\n",
       "    <tr>\n",
       "      <th>0</th>\n",
       "      <td>ASHOKLEY</td>\n",
       "      <td>ESCORTS</td>\n",
       "      <td>-2.500983</td>\n",
       "      <td>1.778373</td>\n",
       "    </tr>\n",
       "    <tr>\n",
       "      <th>1</th>\n",
       "      <td>BAJAJ-AUTO</td>\n",
       "      <td>HEROMOTOCO</td>\n",
       "      <td>-3.114746</td>\n",
       "      <td>1.049928</td>\n",
       "    </tr>\n",
       "  </tbody>\n",
       "</table>\n",
       "</div>"
      ],
      "text/plain": [
       "      x_stock     y_stock  rolling_adf_mean  rolling_beta_mean\n",
       "0    ASHOKLEY     ESCORTS         -2.500983           1.778373\n",
       "1  BAJAJ-AUTO  HEROMOTOCO         -3.114746           1.049928"
      ]
     },
     "execution_count": 222,
     "metadata": {},
     "output_type": "execute_result"
    }
   ],
   "source": [
    "dataframe(auto_dict,auto_tradable_pairs)"
   ]
  },
  {
   "cell_type": "markdown",
   "metadata": {},
   "source": [
    "## health sector test 2015"
   ]
  },
  {
   "cell_type": "code",
   "execution_count": 37,
   "metadata": {},
   "outputs": [],
   "source": [
    "start_date = date(2015,6,1)\n",
    "end_date = date(2015,12,30)"
   ]
  },
  {
   "cell_type": "code",
   "execution_count": 38,
   "metadata": {},
   "outputs": [],
   "source": [
    "health_pairs= [(x,y) for x in health for y in health if x!=y] #craeting combination of stocks so the are iterable \n",
    "health_dict = {}"
   ]
  },
  {
   "cell_type": "code",
   "execution_count": 39,
   "metadata": {},
   "outputs": [],
   "source": [
    "for x,y in health_pairs:\n",
    "    health_dict[str(x) + str(y)] = rolling_adf(x,y,start_date,end_date)"
   ]
  },
  {
   "cell_type": "code",
   "execution_count": 40,
   "metadata": {},
   "outputs": [],
   "source": [
    "health_tradable_pairs = []\n",
    "health_tradable_stocks = []\n",
    "for x,y in health_pairs:\n",
    "    mean = health_dict[str(x) + str(y)][2]\n",
    "    if mean <= -2.5:\n",
    "        health_tradable_pairs.append((x,y))\n",
    "        health_tradable_stocks.append(x)\n",
    "        health_tradable_stocks.append(y)\n",
    "health_tradable_pairs = set(tuple(sorted(p)) for p in health_tradable_pairs)"
   ]
  },
  {
   "cell_type": "code",
   "execution_count": 41,
   "metadata": {
    "scrolled": true
   },
   "outputs": [
    {
     "name": "stdout",
     "output_type": "stream",
     "text": [
      "{'CADILAHC', 'PEL', 'AUROPHARMA'}\n",
      "{('CADILAHC', 'PEL'), ('AUROPHARMA', 'CADILAHC'), ('AUROPHARMA', 'PEL')}\n"
     ]
    }
   ],
   "source": [
    "print(set(health_tradable_stocks))\n",
    "print(health_tradable_pairs)"
   ]
  },
  {
   "cell_type": "code",
   "execution_count": 224,
   "metadata": {},
   "outputs": [
    {
     "data": {
      "text/html": [
       "<div>\n",
       "<style scoped>\n",
       "    .dataframe tbody tr th:only-of-type {\n",
       "        vertical-align: middle;\n",
       "    }\n",
       "\n",
       "    .dataframe tbody tr th {\n",
       "        vertical-align: top;\n",
       "    }\n",
       "\n",
       "    .dataframe thead th {\n",
       "        text-align: right;\n",
       "    }\n",
       "</style>\n",
       "<table border=\"1\" class=\"dataframe\">\n",
       "  <thead>\n",
       "    <tr style=\"text-align: right;\">\n",
       "      <th></th>\n",
       "      <th>x_stock</th>\n",
       "      <th>y_stock</th>\n",
       "      <th>rolling_adf_mean</th>\n",
       "      <th>rolling_beta_mean</th>\n",
       "    </tr>\n",
       "  </thead>\n",
       "  <tbody>\n",
       "    <tr>\n",
       "      <th>0</th>\n",
       "      <td>CADILAHC</td>\n",
       "      <td>PEL</td>\n",
       "      <td>-2.511376</td>\n",
       "      <td>0.571094</td>\n",
       "    </tr>\n",
       "    <tr>\n",
       "      <th>1</th>\n",
       "      <td>AUROPHARMA</td>\n",
       "      <td>CADILAHC</td>\n",
       "      <td>-3.283342</td>\n",
       "      <td>1.569355</td>\n",
       "    </tr>\n",
       "    <tr>\n",
       "      <th>2</th>\n",
       "      <td>AUROPHARMA</td>\n",
       "      <td>PEL</td>\n",
       "      <td>-3.368600</td>\n",
       "      <td>1.069800</td>\n",
       "    </tr>\n",
       "  </tbody>\n",
       "</table>\n",
       "</div>"
      ],
      "text/plain": [
       "      x_stock   y_stock  rolling_adf_mean  rolling_beta_mean\n",
       "0    CADILAHC       PEL         -2.511376           0.571094\n",
       "1  AUROPHARMA  CADILAHC         -3.283342           1.569355\n",
       "2  AUROPHARMA       PEL         -3.368600           1.069800"
      ]
     },
     "execution_count": 224,
     "metadata": {},
     "output_type": "execute_result"
    }
   ],
   "source": [
    "dataframe(health_dict,health_tradable_pairs)"
   ]
  },
  {
   "cell_type": "markdown",
   "metadata": {},
   "source": [
    "## finance sector test for year 2015"
   ]
  },
  {
   "cell_type": "code",
   "execution_count": 42,
   "metadata": {},
   "outputs": [],
   "source": [
    "start_date = date(2015,6,1)\n",
    "end_date = date(2015,12,30)"
   ]
  },
  {
   "cell_type": "code",
   "execution_count": 43,
   "metadata": {},
   "outputs": [],
   "source": [
    "finance_pairs= [(x,y) for x in finance for y in finance if x!=y] #craeting combination of pairs so the are iterable \n",
    "finance_dict = {}"
   ]
  },
  {
   "cell_type": "code",
   "execution_count": 44,
   "metadata": {},
   "outputs": [],
   "source": [
    "for x,y in finance_pairs:\n",
    "    finance_dict[str(x) + str(y)] = rolling_adf(x,y,start_date,end_date)"
   ]
  },
  {
   "cell_type": "code",
   "execution_count": 45,
   "metadata": {},
   "outputs": [],
   "source": [
    "finance_tradable_pairs = []\n",
    "finance_tradable_stocks = []\n",
    "for x,y in finance_pairs:\n",
    "    mean = finance_dict[str(x) + str(y)][2]\n",
    "    if mean <= -2.5:\n",
    "        finance_tradable_pairs.append((x,y))\n",
    "        finance_tradable_stocks.append(x)\n",
    "        finance_tradable_stocks.append(y)\n",
    "finance_tradable_pairs = set(tuple(sorted(p)) for p in finance_tradable_pairs)\n",
    "        \n"
   ]
  },
  {
   "cell_type": "code",
   "execution_count": 46,
   "metadata": {},
   "outputs": [
    {
     "name": "stdout",
     "output_type": "stream",
     "text": [
      "{'DHFL', 'PFC', 'MANAPPURAM', 'L&TFH', 'HDFC'}\n",
      "{('L&TFH', 'PFC'), ('HDFC', 'PFC'), ('DHFL', 'L&TFH'), ('MANAPPURAM', 'PFC'), ('HDFC', 'MANAPPURAM')}\n"
     ]
    }
   ],
   "source": [
    "print(set(finance_tradable_stocks))\n",
    "print(finance_tradable_pairs)"
   ]
  },
  {
   "cell_type": "code",
   "execution_count": 225,
   "metadata": {},
   "outputs": [
    {
     "data": {
      "text/html": [
       "<div>\n",
       "<style scoped>\n",
       "    .dataframe tbody tr th:only-of-type {\n",
       "        vertical-align: middle;\n",
       "    }\n",
       "\n",
       "    .dataframe tbody tr th {\n",
       "        vertical-align: top;\n",
       "    }\n",
       "\n",
       "    .dataframe thead th {\n",
       "        text-align: right;\n",
       "    }\n",
       "</style>\n",
       "<table border=\"1\" class=\"dataframe\">\n",
       "  <thead>\n",
       "    <tr style=\"text-align: right;\">\n",
       "      <th></th>\n",
       "      <th>x_stock</th>\n",
       "      <th>y_stock</th>\n",
       "      <th>rolling_adf_mean</th>\n",
       "      <th>rolling_beta_mean</th>\n",
       "    </tr>\n",
       "  </thead>\n",
       "  <tbody>\n",
       "    <tr>\n",
       "      <th>0</th>\n",
       "      <td>L&amp;TFH</td>\n",
       "      <td>PFC</td>\n",
       "      <td>-2.547787</td>\n",
       "      <td>3.527107</td>\n",
       "    </tr>\n",
       "    <tr>\n",
       "      <th>1</th>\n",
       "      <td>HDFC</td>\n",
       "      <td>PFC</td>\n",
       "      <td>-2.840804</td>\n",
       "      <td>0.190038</td>\n",
       "    </tr>\n",
       "    <tr>\n",
       "      <th>2</th>\n",
       "      <td>DHFL</td>\n",
       "      <td>L&amp;TFH</td>\n",
       "      <td>-3.459738</td>\n",
       "      <td>0.199692</td>\n",
       "    </tr>\n",
       "    <tr>\n",
       "      <th>3</th>\n",
       "      <td>MANAPPURAM</td>\n",
       "      <td>PFC</td>\n",
       "      <td>-2.538808</td>\n",
       "      <td>9.536415</td>\n",
       "    </tr>\n",
       "    <tr>\n",
       "      <th>4</th>\n",
       "      <td>HDFC</td>\n",
       "      <td>MANAPPURAM</td>\n",
       "      <td>-2.690310</td>\n",
       "      <td>0.019890</td>\n",
       "    </tr>\n",
       "  </tbody>\n",
       "</table>\n",
       "</div>"
      ],
      "text/plain": [
       "      x_stock     y_stock  rolling_adf_mean  rolling_beta_mean\n",
       "0       L&TFH         PFC         -2.547787           3.527107\n",
       "1        HDFC         PFC         -2.840804           0.190038\n",
       "2        DHFL       L&TFH         -3.459738           0.199692\n",
       "3  MANAPPURAM         PFC         -2.538808           9.536415\n",
       "4        HDFC  MANAPPURAM         -2.690310           0.019890"
      ]
     },
     "execution_count": 225,
     "metadata": {},
     "output_type": "execute_result"
    }
   ],
   "source": [
    "dataframe(finance_dict,finance_tradable_pairs)"
   ]
  },
  {
   "cell_type": "code",
   "execution_count": null,
   "metadata": {},
   "outputs": [],
   "source": []
  }
 ],
 "metadata": {
  "kernelspec": {
   "display_name": "Python 3",
   "language": "python",
   "name": "python3"
  },
  "language_info": {
   "codemirror_mode": {
    "name": "ipython",
    "version": 3
   },
   "file_extension": ".py",
   "mimetype": "text/x-python",
   "name": "python",
   "nbconvert_exporter": "python",
   "pygments_lexer": "ipython3",
   "version": "3.7.3"
  }
 },
 "nbformat": 4,
 "nbformat_minor": 2
}
