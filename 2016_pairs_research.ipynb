{
 "cells": [
  {
   "cell_type": "markdown",
   "metadata": {},
   "source": [
    "## importing neccasry library "
   ]
  },
  {
   "cell_type": "code",
   "execution_count": 39,
   "metadata": {},
   "outputs": [],
   "source": [
    "from nsepy import get_history\n",
    "import numpy as np\n",
    "import pandas as pd \n",
    "from datetime import date \n",
    "import matplotlib.pyplot as plt \n",
    "%matplotlib inline \n",
    "from statsmodels.tsa.stattools import OLS \n",
    "from statsmodels.tsa.stattools import adfuller"
   ]
  },
  {
   "cell_type": "markdown",
   "metadata": {},
   "source": [
    "##  craeting sector list with thier respective sectors stocks selection of stocks was made based on volume "
   ]
  },
  {
   "cell_type": "code",
   "execution_count": 40,
   "metadata": {},
   "outputs": [],
   "source": [
    "# craeter sector wise variables with stocks list in it \n",
    "banking = ['ALBK','ANDHRABANK','AXISBANK','BANKBARODA','BANKINDIA','CANBK','FEDERALBNK','HDFC','ICICIBANK','IDBI','INDIANB','KOTAKBANK','ORIENTBANK','PNB','SBIN','SYNDIBANK','UNIONBANK']\n",
    "it = ['INFY',\"TCS\",\"WIPRO\",\"HCLTECH\",\"TECHM\",\"HEXAWARE\"]\n",
    "cement = [\"INDIACEM\",\"ULTRACEMCO\",\"AMBUJACEM\",\"ACC\",\"CENTURYTEX\"]\n",
    "petroleum = [\"RIIL\",\"ONGC\",\"GAIL\",\"IOC\",\"BPCL\",\"HINDPETRO\",\"PETRONET\"]\n",
    "auto = [\"ESCORTS\",\"M&M\",\"TATAMOTORS\",\"ASHOKLEY\",\"BAJAJ-AUTO\",\"HEROMOTOCO\",\"TVSMOTOR\"]\n",
    "health = [\"AUROPHARMA\",\"SUNPHARMA\",\"WOCKPHARMA\",\"CADILAHC\",\"PEL\",\"BIOCON\",\"LUPIN\",\"GLENMARK\",\"CIPLA\"]\n",
    "finance = [\"RELCAPITAL\",\"DHFL\",\"IBULHSGFIN\",\"MANAPPURAM\",\"L&TFH\",\"IFCI\",\"RECLTD\",\"PFC\",\"HDFC\"]"
   ]
  },
  {
   "cell_type": "code",
   "execution_count": 35,
   "metadata": {},
   "outputs": [],
   "source": [
    "all_sectors_stocks = [banking,it,cement,petroleum,auto,health,finance]# storing all sectors in one list "
   ]
  },
  {
   "cell_type": "markdown",
   "metadata": {},
   "source": [
    "## craeting a user defined function wich calauclates rollign adf ,rolling beta,and  mean of that rolling adf "
   ]
  },
  {
   "cell_type": "code",
   "execution_count": 41,
   "metadata": {},
   "outputs": [],
   "source": [
    "def rolling_adf(x_name,y_name,start_date,end_date):\n",
    "    rolling_beta = []\n",
    "    adf_values = []\n",
    "    x = get_history(x_name,start = start_date,end=end_date)['Close']\n",
    "    y = get_history(y_name,start = start_date,end=end_date)['Close']\n",
    "    day_count = 0\n",
    "    iteration_count = -1\n",
    "    for i in x:                     #x is just birng used as a range\n",
    "        day_count = day_count + 1    # day count turn to one in the first iteration and so on \n",
    "        if day_count >= 60:\n",
    "            iteration_count = iteration_count + 1 #iteration starts adding up once day count turn 60 \n",
    "            model = OLS(y[iteration_count:day_count].values,x[iteration_count:day_count].values).fit()\n",
    "            spread = y[iteration_count:day_count] - (x[iteration_count:day_count] * model.params[0])\n",
    "            adf = adfuller(spread)[0]\n",
    "            rolling_beta.append(model.params[0])\n",
    "            adf_values.append(adf)\n",
    "    rolling_adf_mean = np.mean(adf_values)\n",
    "    rolling_values = [adf_values,rolling_beta,rolling_adf_mean]\n",
    "    return rolling_values"
   ]
  },
  {
   "cell_type": "code",
   "execution_count": 42,
   "metadata": {},
   "outputs": [],
   "source": [
    "start_date = date(2016,6,1)\n",
    "end_date = date(2016,12,30)"
   ]
  },
  {
   "cell_type": "code",
   "execution_count": 46,
   "metadata": {},
   "outputs": [],
   "source": [
    "def dataframe(sector_dict,dict_pairs):\n",
    "    rolling_adf_pvalue_mean = []\n",
    "    rolling_beta_value = []\n",
    "    x_stocks = []\n",
    "    y_stocks = []\n",
    "    for x,y in dict_pairs:\n",
    "        adf_mean = sector_dict[str(x) + str(y)][2]\n",
    "        rolling_beta_mean = np.mean(sector_dict[str(x) + str(y)][1])\n",
    "        rolling_adf_pvalue_mean.append(adf_mean)\n",
    "        x_stocks.append(x)\n",
    "        y_stocks.append(y)\n",
    "        rolling_beta_value.append(rolling_beta_mean)\n",
    "    \n",
    "    df = pd.DataFrame({\"x_stock\":x_stocks,\"y_stock\":y_stocks,\n",
    "                                 \"rolling_adf_mean\":rolling_adf_pvalue_mean,\n",
    "                                 \"rolling_beta_mean\":rolling_beta_value})\n",
    "    return df\n"
   ]
  },
  {
   "cell_type": "markdown",
   "metadata": {},
   "source": [
    "## banking sector test for year 2016"
   ]
  },
  {
   "cell_type": "code",
   "execution_count": 43,
   "metadata": {},
   "outputs": [],
   "source": [
    "banking_pairs= [(x,y) for x in banking for y in banking if x!=y] #craeting combination of stocks so the are iterable \n",
    "banking_dict = {}\n",
    "for x,y in banking_pairs:\n",
    "    banking_dict[str(x) + str(y)] = rolling_adf(x,y,start_date,end_date)"
   ]
  },
  {
   "cell_type": "code",
   "execution_count": 44,
   "metadata": {},
   "outputs": [],
   "source": [
    "banking_tradable_pairs = []\n",
    "banking_tradable_stocks = []\n",
    "for x,y in banking_pairs:\n",
    "    mean = banking_dict[str(x) + str(y)][2]\n",
    "    if mean <= -2.5:\n",
    "        banking_tradable_pairs.append((x,y))\n",
    "        banking_tradable_stocks.append(x)\n",
    "        banking_tradable_stocks.append(y)\n",
    "banking_tradable_pairs = set(tuple(sorted(p)) for p in banking_tradable_pairs)# removing the duplicates"
   ]
  },
  {
   "cell_type": "code",
   "execution_count": 45,
   "metadata": {
    "scrolled": false
   },
   "outputs": [
    {
     "name": "stdout",
     "output_type": "stream",
     "text": [
      "{'ANDHRABANK', 'ALBK', 'KOTAKBANK', 'ICICIBANK', 'BANKINDIA', 'UNIONBANK', 'SYNDIBANK', 'HDFC', 'IDBI', 'AXISBANK', 'BANKBARODA'}\n",
      "{('BANKBARODA', 'UNIONBANK'), ('HDFC', 'SYNDIBANK'), ('ICICIBANK', 'IDBI'), ('BANKBARODA', 'KOTAKBANK'), ('BANKBARODA', 'HDFC'), ('BANKINDIA', 'HDFC'), ('ANDHRABANK', 'HDFC'), ('IDBI', 'KOTAKBANK'), ('ANDHRABANK', 'SYNDIBANK'), ('ALBK', 'HDFC'), ('KOTAKBANK', 'SYNDIBANK'), ('BANKBARODA', 'BANKINDIA'), ('ALBK', 'AXISBANK'), ('BANKINDIA', 'KOTAKBANK')}\n"
     ]
    }
   ],
   "source": [
    "print(set(banking_tradable_stocks))# i need this so i could copy this to my blue shift algo \n",
    "print(banking_tradable_pairs)"
   ]
  },
  {
   "cell_type": "code",
   "execution_count": 47,
   "metadata": {},
   "outputs": [
    {
     "data": {
      "text/html": [
       "<div>\n",
       "<style scoped>\n",
       "    .dataframe tbody tr th:only-of-type {\n",
       "        vertical-align: middle;\n",
       "    }\n",
       "\n",
       "    .dataframe tbody tr th {\n",
       "        vertical-align: top;\n",
       "    }\n",
       "\n",
       "    .dataframe thead th {\n",
       "        text-align: right;\n",
       "    }\n",
       "</style>\n",
       "<table border=\"1\" class=\"dataframe\">\n",
       "  <thead>\n",
       "    <tr style=\"text-align: right;\">\n",
       "      <th></th>\n",
       "      <th>x_stock</th>\n",
       "      <th>y_stock</th>\n",
       "      <th>rolling_adf_mean</th>\n",
       "      <th>rolling_beta_mean</th>\n",
       "    </tr>\n",
       "  </thead>\n",
       "  <tbody>\n",
       "    <tr>\n",
       "      <th>0</th>\n",
       "      <td>BANKBARODA</td>\n",
       "      <td>UNIONBANK</td>\n",
       "      <td>-2.793855</td>\n",
       "      <td>0.868929</td>\n",
       "    </tr>\n",
       "    <tr>\n",
       "      <th>1</th>\n",
       "      <td>HDFC</td>\n",
       "      <td>SYNDIBANK</td>\n",
       "      <td>-2.682138</td>\n",
       "      <td>0.054368</td>\n",
       "    </tr>\n",
       "    <tr>\n",
       "      <th>2</th>\n",
       "      <td>ICICIBANK</td>\n",
       "      <td>IDBI</td>\n",
       "      <td>-2.728520</td>\n",
       "      <td>0.274727</td>\n",
       "    </tr>\n",
       "    <tr>\n",
       "      <th>3</th>\n",
       "      <td>BANKBARODA</td>\n",
       "      <td>KOTAKBANK</td>\n",
       "      <td>-2.546249</td>\n",
       "      <td>4.864839</td>\n",
       "    </tr>\n",
       "    <tr>\n",
       "      <th>4</th>\n",
       "      <td>BANKBARODA</td>\n",
       "      <td>HDFC</td>\n",
       "      <td>-2.532600</td>\n",
       "      <td>8.456695</td>\n",
       "    </tr>\n",
       "    <tr>\n",
       "      <th>5</th>\n",
       "      <td>BANKINDIA</td>\n",
       "      <td>HDFC</td>\n",
       "      <td>-3.117497</td>\n",
       "      <td>11.922738</td>\n",
       "    </tr>\n",
       "    <tr>\n",
       "      <th>6</th>\n",
       "      <td>ANDHRABANK</td>\n",
       "      <td>HDFC</td>\n",
       "      <td>-2.643492</td>\n",
       "      <td>23.565684</td>\n",
       "    </tr>\n",
       "    <tr>\n",
       "      <th>7</th>\n",
       "      <td>IDBI</td>\n",
       "      <td>KOTAKBANK</td>\n",
       "      <td>-2.612306</td>\n",
       "      <td>10.878303</td>\n",
       "    </tr>\n",
       "    <tr>\n",
       "      <th>8</th>\n",
       "      <td>ANDHRABANK</td>\n",
       "      <td>SYNDIBANK</td>\n",
       "      <td>-2.963011</td>\n",
       "      <td>1.282287</td>\n",
       "    </tr>\n",
       "    <tr>\n",
       "      <th>9</th>\n",
       "      <td>ALBK</td>\n",
       "      <td>HDFC</td>\n",
       "      <td>-2.752355</td>\n",
       "      <td>17.706575</td>\n",
       "    </tr>\n",
       "    <tr>\n",
       "      <th>10</th>\n",
       "      <td>KOTAKBANK</td>\n",
       "      <td>SYNDIBANK</td>\n",
       "      <td>-2.587082</td>\n",
       "      <td>0.094545</td>\n",
       "    </tr>\n",
       "    <tr>\n",
       "      <th>11</th>\n",
       "      <td>BANKBARODA</td>\n",
       "      <td>BANKINDIA</td>\n",
       "      <td>-2.969272</td>\n",
       "      <td>0.709288</td>\n",
       "    </tr>\n",
       "    <tr>\n",
       "      <th>12</th>\n",
       "      <td>ALBK</td>\n",
       "      <td>AXISBANK</td>\n",
       "      <td>-2.685340</td>\n",
       "      <td>7.120858</td>\n",
       "    </tr>\n",
       "    <tr>\n",
       "      <th>13</th>\n",
       "      <td>BANKINDIA</td>\n",
       "      <td>KOTAKBANK</td>\n",
       "      <td>-3.257939</td>\n",
       "      <td>6.857306</td>\n",
       "    </tr>\n",
       "  </tbody>\n",
       "</table>\n",
       "</div>"
      ],
      "text/plain": [
       "       x_stock    y_stock  rolling_adf_mean  rolling_beta_mean\n",
       "0   BANKBARODA  UNIONBANK         -2.793855           0.868929\n",
       "1         HDFC  SYNDIBANK         -2.682138           0.054368\n",
       "2    ICICIBANK       IDBI         -2.728520           0.274727\n",
       "3   BANKBARODA  KOTAKBANK         -2.546249           4.864839\n",
       "4   BANKBARODA       HDFC         -2.532600           8.456695\n",
       "5    BANKINDIA       HDFC         -3.117497          11.922738\n",
       "6   ANDHRABANK       HDFC         -2.643492          23.565684\n",
       "7         IDBI  KOTAKBANK         -2.612306          10.878303\n",
       "8   ANDHRABANK  SYNDIBANK         -2.963011           1.282287\n",
       "9         ALBK       HDFC         -2.752355          17.706575\n",
       "10   KOTAKBANK  SYNDIBANK         -2.587082           0.094545\n",
       "11  BANKBARODA  BANKINDIA         -2.969272           0.709288\n",
       "12        ALBK   AXISBANK         -2.685340           7.120858\n",
       "13   BANKINDIA  KOTAKBANK         -3.257939           6.857306"
      ]
     },
     "execution_count": 47,
     "metadata": {},
     "output_type": "execute_result"
    }
   ],
   "source": [
    "dataframe(banking_dict,banking_tradable_pairs)"
   ]
  },
  {
   "cell_type": "markdown",
   "metadata": {},
   "source": [
    "## it sector test 2016"
   ]
  },
  {
   "cell_type": "code",
   "execution_count": null,
   "metadata": {},
   "outputs": [],
   "source": [
    "it_pairs= [(x,y) for x in it for y in it if x!=y] #craeting combination of stocks so the are iterable \n",
    "it_dict = {}"
   ]
  },
  {
   "cell_type": "code",
   "execution_count": null,
   "metadata": {},
   "outputs": [],
   "source": [
    "for x,y in it_pairs:\n",
    "    it_dict[str(x) + str(y)] = rolling_adf(x,y,start_date,end_date)"
   ]
  },
  {
   "cell_type": "code",
   "execution_count": null,
   "metadata": {},
   "outputs": [],
   "source": [
    "it_tradable_pairs = []\n",
    "it_tradable_stocks = []\n",
    "for x,y in it_pairs:\n",
    "    mean = it_dict[str(x) + str(y)][2]\n",
    "    if mean <= -2.5:\n",
    "        it_tradable_pairs.append((x,y))\n",
    "        it_tradable_stocks.append(x)\n",
    "        it_tradable_stocks.append(y)\n",
    "it_tradable_pairs = set(tuple(sorted(p)) for p in it_tradable_pairs)"
   ]
  },
  {
   "cell_type": "code",
   "execution_count": null,
   "metadata": {},
   "outputs": [],
   "source": [
    "print(set(it_tradable_stocks))\n",
    "print(it_tradable_pairs)"
   ]
  },
  {
   "cell_type": "markdown",
   "metadata": {},
   "source": [
    "## cement sector test 2016"
   ]
  },
  {
   "cell_type": "code",
   "execution_count": null,
   "metadata": {},
   "outputs": [],
   "source": [
    "cement_pairs= [(x,y) for x in cement for y in cement if x!=y] #craeting combination of stocks so the are iterable \n",
    "cement_dict = {}"
   ]
  },
  {
   "cell_type": "code",
   "execution_count": null,
   "metadata": {},
   "outputs": [],
   "source": [
    "for x,y in cement_pairs:\n",
    "    cement_dict[str(x) + str(y)] = rolling_adf(x,y,start_date,end_date)"
   ]
  },
  {
   "cell_type": "code",
   "execution_count": null,
   "metadata": {},
   "outputs": [],
   "source": [
    "cement_tradable_pairs = []\n",
    "cement_tradable_stocks = []\n",
    "for x,y in cement_pairs:\n",
    "    mean = cement_dict[str(x) + str(y)][2]\n",
    "    if mean <= -2.5:\n",
    "        cement_tradable_pairs.append((x,y))\n",
    "        cement_tradable_stocks.append(x)\n",
    "        cement_tradable_stocks.append(y)\n",
    "cement_tradable_pairs = set(tuple(sorted(p)) for p in cement_tradable_pairs)"
   ]
  },
  {
   "cell_type": "code",
   "execution_count": null,
   "metadata": {},
   "outputs": [],
   "source": [
    "print(set(cement_tradable_stocks))\n",
    "print(cement_tradable_pairs)"
   ]
  },
  {
   "cell_type": "code",
   "execution_count": 48,
   "metadata": {},
   "outputs": [
    {
     "data": {
      "text/html": [
       "<div>\n",
       "<style scoped>\n",
       "    .dataframe tbody tr th:only-of-type {\n",
       "        vertical-align: middle;\n",
       "    }\n",
       "\n",
       "    .dataframe tbody tr th {\n",
       "        vertical-align: top;\n",
       "    }\n",
       "\n",
       "    .dataframe thead th {\n",
       "        text-align: right;\n",
       "    }\n",
       "</style>\n",
       "<table border=\"1\" class=\"dataframe\">\n",
       "  <thead>\n",
       "    <tr style=\"text-align: right;\">\n",
       "      <th></th>\n",
       "      <th>x_stock</th>\n",
       "      <th>y_stock</th>\n",
       "      <th>rolling_adf_mean</th>\n",
       "      <th>rolling_beta_mean</th>\n",
       "    </tr>\n",
       "  </thead>\n",
       "  <tbody>\n",
       "  </tbody>\n",
       "</table>\n",
       "</div>"
      ],
      "text/plain": [
       "Empty DataFrame\n",
       "Columns: [x_stock, y_stock, rolling_adf_mean, rolling_beta_mean]\n",
       "Index: []"
      ]
     },
     "execution_count": 48,
     "metadata": {},
     "output_type": "execute_result"
    }
   ],
   "source": [
    "dataframe(it_dict,it_tradable_pairs)"
   ]
  },
  {
   "cell_type": "markdown",
   "metadata": {},
   "source": [
    "##  petroleum sector test 2016"
   ]
  },
  {
   "cell_type": "code",
   "execution_count": null,
   "metadata": {},
   "outputs": [],
   "source": [
    "petroleum_pairs= [(x,y) for x in petroleum for y in petroleum if x!=y] #craeting combination of stocks so the are iterable \n",
    "petroleum_dict = {}"
   ]
  },
  {
   "cell_type": "code",
   "execution_count": null,
   "metadata": {},
   "outputs": [],
   "source": [
    "for x,y in petroleum_pairs:\n",
    "    petroleum_dict[str(x) + str(y)] = rolling_adf(x,y,start_date,end_date)"
   ]
  },
  {
   "cell_type": "code",
   "execution_count": null,
   "metadata": {},
   "outputs": [],
   "source": [
    "petroleum_tradable_pairs = []\n",
    "petroleum_tradable_stocks = []\n",
    "for x,y in petroleum_pairs:\n",
    "    mean = petroleum_dict[str(x) + str(y)][2]\n",
    "    if mean <= -2.5:\n",
    "        petroleum_tradable_pairs.append((x,y))\n",
    "        petroleum_tradable_stocks.append(x)\n",
    "        petroleum_tradable_stocks.append(y)\n",
    "petroleum_tradable_pairs = set(tuple(sorted(p)) for p in petroleum_tradable_pairs)"
   ]
  },
  {
   "cell_type": "code",
   "execution_count": null,
   "metadata": {},
   "outputs": [],
   "source": [
    "print(set(petroleum_tradable_stocks))\n",
    "print(petroleum_tradable_pairs)"
   ]
  },
  {
   "cell_type": "markdown",
   "metadata": {},
   "source": [
    "## auto sector test 2016"
   ]
  },
  {
   "cell_type": "code",
   "execution_count": null,
   "metadata": {},
   "outputs": [],
   "source": [
    "auto_pairs= [(x,y) for x in auto for y in auto if x!=y] #craeting combination of stocks so the are iterable \n",
    "auto_dict = {}"
   ]
  },
  {
   "cell_type": "code",
   "execution_count": null,
   "metadata": {},
   "outputs": [],
   "source": [
    "for x,y in auto_pairs:\n",
    "    auto_dict[str(x) + str(y)] = rolling_adf(x,y,start_date,end_date)"
   ]
  },
  {
   "cell_type": "code",
   "execution_count": null,
   "metadata": {},
   "outputs": [],
   "source": [
    "auto_tradable_pairs = []\n",
    "auto_tradable_stocks = []\n",
    "for x,y in auto_pairs:\n",
    "    mean = auto_dict[str(x) + str(y)][2]\n",
    "    if mean <= -2.5:\n",
    "        auto_tradable_pairs.append((x,y))\n",
    "        auto_tradable_stocks.append(x)\n",
    "        auto_tradable_stocks.append(y)\n",
    "auto_tradable_pairs = set(tuple(sorted(p)) for p in auto_tradable_pairs)"
   ]
  },
  {
   "cell_type": "code",
   "execution_count": null,
   "metadata": {},
   "outputs": [],
   "source": [
    "print(set(auto_tradable_stocks))\n",
    "print(auto_tradable_pairs)"
   ]
  },
  {
   "cell_type": "markdown",
   "metadata": {},
   "source": [
    "## health sector test 2016"
   ]
  },
  {
   "cell_type": "code",
   "execution_count": null,
   "metadata": {},
   "outputs": [],
   "source": [
    "health_pairs= [(x,y) for x in health for y in health if x!=y] #craeting combination of stocks so the are iterable \n",
    "health_dict = {}"
   ]
  },
  {
   "cell_type": "code",
   "execution_count": null,
   "metadata": {},
   "outputs": [],
   "source": [
    "for x,y in health_pairs:\n",
    "    health_dict[str(x) + str(y)] = rolling_adf(x,y,start_date,end_date)"
   ]
  },
  {
   "cell_type": "code",
   "execution_count": null,
   "metadata": {},
   "outputs": [],
   "source": [
    "health_tradable_pairs = []\n",
    "health_tradable_stocks = []\n",
    "for x,y in health_pairs:\n",
    "    mean = health_dict[str(x) + str(y)][2]\n",
    "    if mean <= -2.5:\n",
    "        health_tradable_pairs.append((x,y))\n",
    "        health_tradable_stocks.append(x)\n",
    "        health_tradable_stocks.append(y)\n",
    "health_tradable_pairs = set(tuple(sorted(p)) for p in health_tradable_pairs)"
   ]
  },
  {
   "cell_type": "code",
   "execution_count": null,
   "metadata": {},
   "outputs": [],
   "source": [
    "print(set(health_tradable_stocks))\n",
    "print(health_tradable_pairs)"
   ]
  },
  {
   "cell_type": "markdown",
   "metadata": {},
   "source": [
    "## finance sector test for year 2016"
   ]
  },
  {
   "cell_type": "code",
   "execution_count": null,
   "metadata": {},
   "outputs": [],
   "source": [
    "finance_pairs= [(x,y) for x in finance for y in finance if x!=y] #craeting combination of pairs so the are iterable \n",
    "finance_dict = {}"
   ]
  },
  {
   "cell_type": "code",
   "execution_count": null,
   "metadata": {},
   "outputs": [],
   "source": [
    "for x,y in finance_pairs:\n",
    "    finance_dict[str(x) + str(y)] = rolling_adf(x,y,start_date,end_date)"
   ]
  },
  {
   "cell_type": "code",
   "execution_count": null,
   "metadata": {},
   "outputs": [],
   "source": [
    "finance_tradable_pairs = []\n",
    "finance_tradable_stocks = []\n",
    "for x,y in finance_pairs:\n",
    "    mean = finance_dict[str(x) + str(y)][2]\n",
    "    if mean <= -2.5:\n",
    "        finance_tradable_pairs.append((x,y))\n",
    "        finance_tradable_stocks.append(x)\n",
    "        finance_tradable_stocks.append(y)\n",
    "finance_tradable_pairs = set(tuple(sorted(p)) for p in finance_tradable_pairs)\n",
    "        \n"
   ]
  },
  {
   "cell_type": "code",
   "execution_count": null,
   "metadata": {},
   "outputs": [],
   "source": [
    "print(set(finance_tradable_stocks))\n",
    "print(finance_tradable_pairs)"
   ]
  },
  {
   "cell_type": "code",
   "execution_count": null,
   "metadata": {},
   "outputs": [],
   "source": [
    "\n",
    "\n"
   ]
  },
  {
   "cell_type": "code",
   "execution_count": null,
   "metadata": {},
   "outputs": [],
   "source": []
  },
  {
   "cell_type": "code",
   "execution_count": null,
   "metadata": {},
   "outputs": [],
   "source": []
  },
  {
   "cell_type": "code",
   "execution_count": null,
   "metadata": {},
   "outputs": [],
   "source": []
  },
  {
   "cell_type": "code",
   "execution_count": null,
   "metadata": {},
   "outputs": [],
   "source": []
  },
  {
   "cell_type": "code",
   "execution_count": null,
   "metadata": {},
   "outputs": [],
   "source": []
  },
  {
   "cell_type": "code",
   "execution_count": null,
   "metadata": {},
   "outputs": [],
   "source": []
  },
  {
   "cell_type": "code",
   "execution_count": null,
   "metadata": {},
   "outputs": [],
   "source": []
  }
 ],
 "metadata": {
  "kernelspec": {
   "display_name": "Python 3",
   "language": "python",
   "name": "python3"
  },
  "language_info": {
   "codemirror_mode": {
    "name": "ipython",
    "version": 3
   },
   "file_extension": ".py",
   "mimetype": "text/x-python",
   "name": "python",
   "nbconvert_exporter": "python",
   "pygments_lexer": "ipython3",
   "version": "3.7.3"
  }
 },
 "nbformat": 4,
 "nbformat_minor": 2
}
