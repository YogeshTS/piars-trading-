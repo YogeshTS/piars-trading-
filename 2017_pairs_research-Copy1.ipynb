{
 "cells": [
  {
   "cell_type": "markdown",
   "metadata": {},
   "source": [
    "## importing neccasry library "
   ]
  },
  {
   "cell_type": "code",
   "execution_count": 36,
   "metadata": {},
   "outputs": [],
   "source": [
    "from nsepy import get_history\n",
    "import numpy as np\n",
    "import pandas as pd \n",
    "from datetime import date \n",
    "import matplotlib.pyplot as plt \n",
    "%matplotlib inline \n",
    "from statsmodels.tsa.stattools import OLS \n",
    "from statsmodels.tsa.stattools import adfuller"
   ]
  },
  {
   "cell_type": "markdown",
   "metadata": {},
   "source": [
    "##  craeting sector list with thier respective sectors stocks selection of stocks was made based on volume "
   ]
  },
  {
   "cell_type": "code",
   "execution_count": 37,
   "metadata": {},
   "outputs": [],
   "source": [
    "# craeter sector wise variables with stocks list in it \n",
    "banking = ['ALBK','ANDHRABANK','AXISBANK','BANKBARODA','BANKINDIA','CANBK','FEDERALBNK','HDFC','ICICIBANK','IDBI','INDIANB','KOTAKBANK','ORIENTBANK','PNB','SBIN','SYNDIBANK','UNIONBANK']\n",
    "it = ['INFY',\"TCS\",\"WIPRO\",\"HCLTECH\",\"TECHM\",\"HEXAWARE\"]\n",
    "cement = [\"INDIACEM\",\"ULTRACEMCO\",\"AMBUJACEM\",\"ACC\",\"CENTURYTEX\"]\n",
    "petroleum = [\"RIIL\",\"ONGC\",\"GAIL\",\"IOC\",\"BPCL\",\"HINDPETRO\",\"PETRONET\"]\n",
    "auto = [\"ESCORTS\",\"M&M\",\"TATAMOTORS\",\"ASHOKLEY\",\"BAJAJ-AUTO\",\"HEROMOTOCO\",\"TVSMOTOR\"]\n",
    "health = [\"AUROPHARMA\",\"SUNPHARMA\",\"WOCKPHARMA\",\"CADILAHC\",\"PEL\",\"BIOCON\",\"LUPIN\",\"GLENMARK\",\"CIPLA\"]\n",
    "finance = [\"RELCAPITAL\",\"DHFL\",\"IBULHSGFIN\",\"MANAPPURAM\",\"L&TFH\",\"IFCI\",\"RECLTD\",\"PFC\",\"HDFC\"]"
   ]
  },
  {
   "cell_type": "code",
   "execution_count": 38,
   "metadata": {},
   "outputs": [],
   "source": [
    "all_sectors_stocks = [banking,it,cement,petroleum,auto,health,finance]# storing all sectors in one list "
   ]
  },
  {
   "cell_type": "markdown",
   "metadata": {},
   "source": [
    "## craeting a user defined function wich calauclates rollign adf ,rolling beta,and  mean of that rolling adf "
   ]
  },
  {
   "cell_type": "code",
   "execution_count": 39,
   "metadata": {},
   "outputs": [],
   "source": [
    "def rolling_adf(x_name,y_name,start_date,end_date):\n",
    "    rolling_beta = []\n",
    "    adf_values = []\n",
    "    x = get_history(x_name,start = start_date,end=end_date)['Close']\n",
    "    y = get_history(y_name,start = start_date,end=end_date)['Close']\n",
    "    day_count = 0\n",
    "    iteration_count = -1\n",
    "    for i in x:                     #x is just birng used as a range\n",
    "        day_count = day_count + 1    # day count turn to one in the first iteration and so on \n",
    "        if day_count >= 60:\n",
    "            iteration_count = iteration_count + 1 #iteration starts adding up once day count turn 60 \n",
    "            model = OLS(y[iteration_count:day_count].values,x[iteration_count:day_count].values).fit()\n",
    "            spread = y[iteration_count:day_count] - (x[iteration_count:day_count] * model.params[0])\n",
    "            adf = adfuller(spread)[0]\n",
    "            rolling_beta.append(model.params[0])\n",
    "            adf_values.append(adf)\n",
    "    rolling_adf_mean = np.mean(adf_values)\n",
    "    rolling_values = [adf_values,rolling_beta,rolling_adf_mean]\n",
    "    return rolling_values"
   ]
  },
  {
   "cell_type": "code",
   "execution_count": 8,
   "metadata": {},
   "outputs": [],
   "source": [
    "start_date = date(2017,6,1)\n",
    "end_date = date(2017,12,30)"
   ]
  },
  {
   "cell_type": "markdown",
   "metadata": {},
   "source": [
    "## banking sector test for year 2015"
   ]
  },
  {
   "cell_type": "code",
   "execution_count": 9,
   "metadata": {},
   "outputs": [],
   "source": [
    "banking_pairs= [(x,y) for x in banking for y in banking if x!=y] #craeting combination of stocks so the are iterable \n",
    "banking_dict = {}\n",
    "for x,y in banking_pairs:\n",
    "    banking_dict[str(x) + str(y)] = rolling_adf(x,y,start_date,end_date)"
   ]
  },
  {
   "cell_type": "code",
   "execution_count": 10,
   "metadata": {},
   "outputs": [],
   "source": [
    "banking_tradable_pairs = []\n",
    "banking_tradable_stocks = []\n",
    "for x,y in banking_pairs:\n",
    "    mean = banking_dict[str(x) + str(y)][2]\n",
    "    if mean <= -2.5:\n",
    "        banking_tradable_pairs.append((x,y))\n",
    "        banking_tradable_stocks.append(x)\n",
    "        banking_tradable_stocks.append(y)\n",
    "banking_tradable_pairs = set(tuple(sorted(p)) for p in banking_tradable_pairs)# removing the duplicates"
   ]
  },
  {
   "cell_type": "code",
   "execution_count": 40,
   "metadata": {
    "scrolled": true
   },
   "outputs": [
    {
     "name": "stdout",
     "output_type": "stream",
     "text": [
      "{'CANBK', 'IDBI', 'ALBK'}\n",
      "{('ALBK', 'IDBI'), ('CANBK', 'IDBI')}\n"
     ]
    }
   ],
   "source": [
    "print(set(banking_tradable_stocks))# i need this so i could copy this to my blue shift algo \n",
    "print(banking_tradable_pairs)"
   ]
  },
  {
   "cell_type": "markdown",
   "metadata": {},
   "source": [
    "## it sector test 2015 "
   ]
  },
  {
   "cell_type": "code",
   "execution_count": 12,
   "metadata": {},
   "outputs": [],
   "source": [
    "it_pairs= [(x,y) for x in it for y in it if x!=y] #craeting combination of stocks so the are iterable \n",
    "it_dict = {}"
   ]
  },
  {
   "cell_type": "code",
   "execution_count": 13,
   "metadata": {},
   "outputs": [],
   "source": [
    "for x,y in it_pairs:\n",
    "    it_dict[str(x) + str(y)] = rolling_adf(x,y,start_date,end_date)"
   ]
  },
  {
   "cell_type": "code",
   "execution_count": 14,
   "metadata": {},
   "outputs": [],
   "source": [
    "it_tradable_pairs = []\n",
    "it_tradable_stocks = []\n",
    "for x,y in it_pairs:\n",
    "    mean = it_dict[str(x) + str(y)][2]\n",
    "    if mean <= -2.5:\n",
    "        it_tradable_pairs.append((x,y))\n",
    "        it_tradable_stocks.append(x)\n",
    "        it_tradable_stocks.append(y)\n",
    "it_tradable_pairs = set(tuple(sorted(p)) for p in it_tradable_pairs)"
   ]
  },
  {
   "cell_type": "code",
   "execution_count": 15,
   "metadata": {},
   "outputs": [
    {
     "name": "stdout",
     "output_type": "stream",
     "text": [
      "set()\n",
      "set()\n"
     ]
    }
   ],
   "source": [
    "print(set(it_tradable_stocks))\n",
    "print(it_tradable_pairs)"
   ]
  },
  {
   "cell_type": "markdown",
   "metadata": {},
   "source": [
    "## cement sector test 2015"
   ]
  },
  {
   "cell_type": "code",
   "execution_count": 16,
   "metadata": {},
   "outputs": [],
   "source": [
    "cement_pairs= [(x,y) for x in cement for y in cement if x!=y] #craeting combination of stocks so the are iterable \n",
    "cement_dict = {}"
   ]
  },
  {
   "cell_type": "code",
   "execution_count": 17,
   "metadata": {},
   "outputs": [],
   "source": [
    "for x,y in cement_pairs:\n",
    "    cement_dict[str(x) + str(y)] = rolling_adf(x,y,start_date,end_date)"
   ]
  },
  {
   "cell_type": "code",
   "execution_count": 18,
   "metadata": {},
   "outputs": [],
   "source": [
    "cement_tradable_pairs = []\n",
    "cement_tradable_stocks = []\n",
    "for x,y in cement_pairs:\n",
    "    mean = cement_dict[str(x) + str(y)][2]\n",
    "    if mean <= -2.5:\n",
    "        cement_tradable_pairs.append((x,y))\n",
    "        cement_tradable_stocks.append(x)\n",
    "        cement_tradable_stocks.append(y)\n",
    "cement_tradable_pairs = set(tuple(sorted(p)) for p in cement_tradable_pairs)"
   ]
  },
  {
   "cell_type": "code",
   "execution_count": 19,
   "metadata": {},
   "outputs": [
    {
     "name": "stdout",
     "output_type": "stream",
     "text": [
      "set()\n",
      "set()\n"
     ]
    }
   ],
   "source": [
    "print(set(cement_tradable_stocks))\n",
    "print(cement_tradable_pairs)"
   ]
  },
  {
   "cell_type": "markdown",
   "metadata": {},
   "source": [
    "##  petroleum sector test 2015"
   ]
  },
  {
   "cell_type": "code",
   "execution_count": 20,
   "metadata": {},
   "outputs": [],
   "source": [
    "petroleum_pairs= [(x,y) for x in petroleum for y in petroleum if x!=y] #craeting combination of stocks so the are iterable \n",
    "petroleum_dict = {}"
   ]
  },
  {
   "cell_type": "code",
   "execution_count": 21,
   "metadata": {},
   "outputs": [],
   "source": [
    "for x,y in petroleum_pairs:\n",
    "    petroleum_dict[str(x) + str(y)] = rolling_adf(x,y,start_date,end_date)"
   ]
  },
  {
   "cell_type": "code",
   "execution_count": 22,
   "metadata": {},
   "outputs": [],
   "source": [
    "petroleum_tradable_pairs = []\n",
    "petroleum_tradable_stocks = []\n",
    "for x,y in petroleum_pairs:\n",
    "    mean = petroleum_dict[str(x) + str(y)][2]\n",
    "    if mean <= -2.5:\n",
    "        petroleum_tradable_pairs.append((x,y))\n",
    "        petroleum_tradable_stocks.append(x)\n",
    "        petroleum_tradable_stocks.append(y)\n",
    "petroleum_tradable_pairs = set(tuple(sorted(p)) for p in petroleum_tradable_pairs)"
   ]
  },
  {
   "cell_type": "code",
   "execution_count": 23,
   "metadata": {},
   "outputs": [
    {
     "name": "stdout",
     "output_type": "stream",
     "text": [
      "{'PETRONET', 'BPCL', 'ONGC'}\n",
      "{('ONGC', 'PETRONET'), ('BPCL', 'PETRONET')}\n"
     ]
    }
   ],
   "source": [
    "print(set(petroleum_tradable_stocks))\n",
    "print(petroleum_tradable_pairs)"
   ]
  },
  {
   "cell_type": "markdown",
   "metadata": {},
   "source": [
    "## auto sector test 2015"
   ]
  },
  {
   "cell_type": "code",
   "execution_count": 24,
   "metadata": {},
   "outputs": [],
   "source": [
    "auto_pairs= [(x,y) for x in auto for y in auto if x!=y] #craeting combination of stocks so the are iterable \n",
    "auto_dict = {}"
   ]
  },
  {
   "cell_type": "code",
   "execution_count": 25,
   "metadata": {},
   "outputs": [],
   "source": [
    "for x,y in auto_pairs:\n",
    "    auto_dict[str(x) + str(y)] = rolling_adf(x,y,start_date,end_date)"
   ]
  },
  {
   "cell_type": "code",
   "execution_count": 26,
   "metadata": {},
   "outputs": [],
   "source": [
    "auto_tradable_pairs = []\n",
    "auto_tradable_stocks = []\n",
    "for x,y in auto_pairs:\n",
    "    mean = auto_dict[str(x) + str(y)][2]\n",
    "    if mean <= -2.5:\n",
    "        auto_tradable_pairs.append((x,y))\n",
    "        auto_tradable_stocks.append(x)\n",
    "        auto_tradable_stocks.append(y)\n",
    "auto_tradable_pairs = set(tuple(sorted(p)) for p in auto_tradable_pairs)"
   ]
  },
  {
   "cell_type": "code",
   "execution_count": 27,
   "metadata": {},
   "outputs": [
    {
     "name": "stdout",
     "output_type": "stream",
     "text": [
      "set()\n",
      "set()\n"
     ]
    }
   ],
   "source": [
    "print(set(auto_tradable_stocks))\n",
    "print(auto_tradable_pairs)"
   ]
  },
  {
   "cell_type": "markdown",
   "metadata": {},
   "source": [
    "## health sector test 2015"
   ]
  },
  {
   "cell_type": "code",
   "execution_count": 28,
   "metadata": {},
   "outputs": [],
   "source": [
    "health_pairs= [(x,y) for x in health for y in health if x!=y] #craeting combination of stocks so the are iterable \n",
    "health_dict = {}"
   ]
  },
  {
   "cell_type": "code",
   "execution_count": 29,
   "metadata": {},
   "outputs": [],
   "source": [
    "for x,y in health_pairs:\n",
    "    health_dict[str(x) + str(y)] = rolling_adf(x,y,start_date,end_date)"
   ]
  },
  {
   "cell_type": "code",
   "execution_count": 30,
   "metadata": {},
   "outputs": [],
   "source": [
    "health_tradable_pairs = []\n",
    "health_tradable_stocks = []\n",
    "for x,y in health_pairs:\n",
    "    mean = health_dict[str(x) + str(y)][2]\n",
    "    if mean <= -2.5:\n",
    "        health_tradable_pairs.append((x,y))\n",
    "        health_tradable_stocks.append(x)\n",
    "        health_tradable_stocks.append(y)\n",
    "health_tradable_pairs = set(tuple(sorted(p)) for p in health_tradable_pairs)"
   ]
  },
  {
   "cell_type": "code",
   "execution_count": 31,
   "metadata": {},
   "outputs": [
    {
     "name": "stdout",
     "output_type": "stream",
     "text": [
      "{'BIOCON', 'SUNPHARMA', 'WOCKPHARMA', 'CIPLA'}\n",
      "{('CIPLA', 'SUNPHARMA'), ('BIOCON', 'WOCKPHARMA')}\n"
     ]
    }
   ],
   "source": [
    "print(set(health_tradable_stocks))\n",
    "print(health_tradable_pairs)"
   ]
  },
  {
   "cell_type": "markdown",
   "metadata": {},
   "source": [
    "## finance sector test for year 2015"
   ]
  },
  {
   "cell_type": "code",
   "execution_count": 32,
   "metadata": {},
   "outputs": [],
   "source": [
    "finance_pairs= [(x,y) for x in finance for y in finance if x!=y] #craeting combination of pairs so the are iterable \n",
    "finance_dict = {}"
   ]
  },
  {
   "cell_type": "code",
   "execution_count": 33,
   "metadata": {},
   "outputs": [],
   "source": [
    "for x,y in finance_pairs:\n",
    "    finance_dict[str(x) + str(y)] = rolling_adf(x,y,start_date,end_date)"
   ]
  },
  {
   "cell_type": "code",
   "execution_count": 34,
   "metadata": {},
   "outputs": [],
   "source": [
    "finance_tradable_pairs = []\n",
    "finance_tradable_stocks = []\n",
    "for x,y in finance_pairs:\n",
    "    mean = finance_dict[str(x) + str(y)][2]\n",
    "    if mean <= -2.5:\n",
    "        finance_tradable_pairs.append((x,y))\n",
    "        finance_tradable_stocks.append(x)\n",
    "        finance_tradable_stocks.append(y)\n",
    "finance_tradable_pairs = set(tuple(sorted(p)) for p in finance_tradable_pairs)\n",
    "        \n"
   ]
  },
  {
   "cell_type": "code",
   "execution_count": 35,
   "metadata": {},
   "outputs": [
    {
     "name": "stdout",
     "output_type": "stream",
     "text": [
      "{'RECLTD', 'IFCI'}\n",
      "{('IFCI', 'RECLTD')}\n"
     ]
    }
   ],
   "source": [
    "print(set(finance_tradable_stocks))\n",
    "print(finance_tradable_pairs)"
   ]
  },
  {
   "cell_type": "code",
   "execution_count": null,
   "metadata": {},
   "outputs": [],
   "source": []
  },
  {
   "cell_type": "code",
   "execution_count": null,
   "metadata": {},
   "outputs": [],
   "source": []
  },
  {
   "cell_type": "code",
   "execution_count": null,
   "metadata": {},
   "outputs": [],
   "source": []
  },
  {
   "cell_type": "code",
   "execution_count": null,
   "metadata": {},
   "outputs": [],
   "source": []
  },
  {
   "cell_type": "code",
   "execution_count": null,
   "metadata": {},
   "outputs": [],
   "source": []
  },
  {
   "cell_type": "code",
   "execution_count": null,
   "metadata": {},
   "outputs": [],
   "source": []
  },
  {
   "cell_type": "code",
   "execution_count": null,
   "metadata": {},
   "outputs": [],
   "source": []
  },
  {
   "cell_type": "code",
   "execution_count": null,
   "metadata": {},
   "outputs": [],
   "source": []
  }
 ],
 "metadata": {
  "kernelspec": {
   "display_name": "Python 3",
   "language": "python",
   "name": "python3"
  },
  "language_info": {
   "codemirror_mode": {
    "name": "ipython",
    "version": 3
   },
   "file_extension": ".py",
   "mimetype": "text/x-python",
   "name": "python",
   "nbconvert_exporter": "python",
   "pygments_lexer": "ipython3",
   "version": "3.7.3"
  }
 },
 "nbformat": 4,
 "nbformat_minor": 2
}
